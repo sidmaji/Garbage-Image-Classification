{
    "nbformat": 4,
    "nbformat_minor": 0,
    "metadata": {
        "colab": {
            "provenance": [],
            "gpuType": "T4"
        },
        "kernelspec": {
            "name": "python3",
            "display_name": "Python 3"
        },
        "language_info": {
            "name": "python"
        },
        "accelerator": "GPU",
        "widgets": {
            "application/vnd.jupyter.widget-state+json": {
                "state": {}
            }
        }
    },
    "cells": [
        {
            "cell_type": "code",
            "execution_count": null,
            "metadata": {
                "id": "p2KXONxA7O01"
            },
            "outputs": [],
            "source": [
                "import torch\n",
                "from torchvision import datasets, transforms\n",
                "from torch.utils.data import DataLoader, random_split\n",
                "from sklearn.model_selection import train_test_split\n",
                "import timm\n",
                "import torch.nn as nn\n",
                "import torch.optim as optim\n",
                "from tqdm import tqdm\n",
                "import kagglehub\n",
                "import os"
            ]
        },
        {
            "cell_type": "code",
            "source": [
                "data_dir = kagglehub.dataset_download(\"siddhantmaji/unified-waste-classification-dataset\")\n",
                "\n",
                "print(\"Path to dataset files:\", data_dir)"
            ],
            "metadata": {
                "colab": {
                    "base_uri": "https://localhost:8080/"
                },
                "id": "ITp0FVm47rUX",
                "outputId": "b576a023-30a4-46df-996c-958475b90db3"
            },
            "execution_count": null,
            "outputs": [
                {
                    "output_type": "stream",
                    "name": "stdout",
                    "text": [
                        "Path to dataset files: /kaggle/input/unified-waste-classification-dataset\n"
                    ]
                }
            ]
        },
        {
            "cell_type": "code",
            "source": [
                "data_dir = f\"{data_dir}/content/unified_dataset\"\n",
                "BATCH_SIZE = 32\n",
                "IMG_SIZE = 224\n",
                "\n",
                "# Preprocessing transforms only, no data augmentation\n",
                "transform = transforms.Compose([\n",
                "    transforms.Resize((IMG_SIZE, IMG_SIZE)),\n",
                "    transforms.ToTensor(),\n",
                "    transforms.Normalize(mean=[0.485, 0.456, 0.406],\n",
                "                         std=[0.229, 0.224, 0.225])\n",
                "])\n",
                "\n",
                "# Load full dataset\n",
                "dataset = datasets.ImageFolder(root=data_dir, transform=transform)\n",
                "\n",
                "# Stratified train/val split\n",
                "targets = [sample[1] for sample in dataset.samples]\n",
                "train_idx, val_idx = train_test_split(\n",
                "    range(len(dataset)),\n",
                "    test_size=0.2,\n",
                "    stratify=targets,\n",
                "    random_state=42\n",
                ")\n",
                "\n",
                "train_dataset = torch.utils.data.Subset(dataset, train_idx)\n",
                "val_dataset = torch.utils.data.Subset(dataset, val_idx)\n",
                "\n",
                "train_loader = DataLoader(train_dataset, batch_size=BATCH_SIZE, shuffle=True)\n",
                "val_loader = DataLoader(val_dataset, batch_size=BATCH_SIZE)"
            ],
            "metadata": {
                "id": "1TgFoMz-7S0y"
            },
            "execution_count": null,
            "outputs": []
        },
        {
            "cell_type": "code",
            "source": [
                "device = torch.device(\"cuda\" if torch.cuda.is_available() else \"cpu\")\n",
                "\n",
                "# MobileNetV3-Large from timm, pretrained on ImageNet\n",
                "model = timm.create_model(\"mobilenetv3_large_100\", pretrained=True, num_classes=8)\n",
                "model.to(device)"
            ],
            "metadata": {
                "colab": {
                    "base_uri": "https://localhost:8080/",
                    "height": 1000,
                    "referenced_widgets": [
                        "41640198949a4bad97d8523fec8ae256",
                        "d26180e8684c4e589ab534ec112456aa",
                        "0ca35d11e8414cd3af004024426a295b",
                        "798bdbd936cf4c9c8c65f2eeff3ae2b7",
                        "3d6b2fa7e4d44075b4e6ee9518aba4d0",
                        "62423a62044146a3a8b5c73b9ea12128",
                        "8656940f93654602bf53c993280af528",
                        "6884c408869a41f9ac80ab0dc75d312b",
                        "bcd28d0047794465b74773594080f702",
                        "f5d4ed94510f46738fe3242e90bddcbd",
                        "3f7b113c784e4752a1fbd498503ebd12"
                    ]
                },
                "id": "YIwIHcgC8j9N",
                "outputId": "ce8a176c-42c6-44df-b9f2-b0d71fe5f548"
            },
            "execution_count": null,
            "outputs": [
                {
                    "output_type": "stream",
                    "name": "stderr",
                    "text": [
                        "/usr/local/lib/python3.11/dist-packages/huggingface_hub/utils/_auth.py:94: UserWarning: \n",
                        "The secret `HF_TOKEN` does not exist in your Colab secrets.\n",
                        "To authenticate with the Hugging Face Hub, create a token in your settings tab (https://huggingface.co/settings/tokens), set it as secret in your Google Colab and restart your session.\n",
                        "You will be able to reuse this secret in all of your notebooks.\n",
                        "Please note that authentication is recommended but still optional to access public models or datasets.\n",
                        "  warnings.warn(\n"
                    ]
                },
                {
                    "output_type": "display_data",
                    "data": {
                        "text/plain": [
                            "model.safetensors:   0%|          | 0.00/22.1M [00:00<?, ?B/s]"
                        ],
                        "application/vnd.jupyter.widget-view+json": {
                            "version_major": 2,
                            "version_minor": 0,
                            "model_id": "41640198949a4bad97d8523fec8ae256"
                        }
                    },
                    "metadata": {}
                },
                {
                    "output_type": "execute_result",
                    "data": {
                        "text/plain": [
                            "MobileNetV3(\n",
                            "  (conv_stem): Conv2d(3, 16, kernel_size=(3, 3), stride=(2, 2), padding=(1, 1), bias=False)\n",
                            "  (bn1): BatchNormAct2d(\n",
                            "    16, eps=1e-05, momentum=0.1, affine=True, track_running_stats=True\n",
                            "    (drop): Identity()\n",
                            "    (act): Hardswish()\n",
                            "  )\n",
                            "  (blocks): Sequential(\n",
                            "    (0): Sequential(\n",
                            "      (0): DepthwiseSeparableConv(\n",
                            "        (conv_dw): Conv2d(16, 16, kernel_size=(3, 3), stride=(1, 1), padding=(1, 1), groups=16, bias=False)\n",
                            "        (bn1): BatchNormAct2d(\n",
                            "          16, eps=1e-05, momentum=0.1, affine=True, track_running_stats=True\n",
                            "          (drop): Identity()\n",
                            "          (act): ReLU(inplace=True)\n",
                            "        )\n",
                            "        (aa): Identity()\n",
                            "        (se): Identity()\n",
                            "        (conv_pw): Conv2d(16, 16, kernel_size=(1, 1), stride=(1, 1), bias=False)\n",
                            "        (bn2): BatchNormAct2d(\n",
                            "          16, eps=1e-05, momentum=0.1, affine=True, track_running_stats=True\n",
                            "          (drop): Identity()\n",
                            "          (act): Identity()\n",
                            "        )\n",
                            "        (drop_path): Identity()\n",
                            "      )\n",
                            "    )\n",
                            "    (1): Sequential(\n",
                            "      (0): InvertedResidual(\n",
                            "        (conv_pw): Conv2d(16, 64, kernel_size=(1, 1), stride=(1, 1), bias=False)\n",
                            "        (bn1): BatchNormAct2d(\n",
                            "          64, eps=1e-05, momentum=0.1, affine=True, track_running_stats=True\n",
                            "          (drop): Identity()\n",
                            "          (act): ReLU(inplace=True)\n",
                            "        )\n",
                            "        (conv_dw): Conv2d(64, 64, kernel_size=(3, 3), stride=(2, 2), padding=(1, 1), groups=64, bias=False)\n",
                            "        (bn2): BatchNormAct2d(\n",
                            "          64, eps=1e-05, momentum=0.1, affine=True, track_running_stats=True\n",
                            "          (drop): Identity()\n",
                            "          (act): ReLU(inplace=True)\n",
                            "        )\n",
                            "        (aa): Identity()\n",
                            "        (se): Identity()\n",
                            "        (conv_pwl): Conv2d(64, 24, kernel_size=(1, 1), stride=(1, 1), bias=False)\n",
                            "        (bn3): BatchNormAct2d(\n",
                            "          24, eps=1e-05, momentum=0.1, affine=True, track_running_stats=True\n",
                            "          (drop): Identity()\n",
                            "          (act): Identity()\n",
                            "        )\n",
                            "        (drop_path): Identity()\n",
                            "      )\n",
                            "      (1): InvertedResidual(\n",
                            "        (conv_pw): Conv2d(24, 72, kernel_size=(1, 1), stride=(1, 1), bias=False)\n",
                            "        (bn1): BatchNormAct2d(\n",
                            "          72, eps=1e-05, momentum=0.1, affine=True, track_running_stats=True\n",
                            "          (drop): Identity()\n",
                            "          (act): ReLU(inplace=True)\n",
                            "        )\n",
                            "        (conv_dw): Conv2d(72, 72, kernel_size=(3, 3), stride=(1, 1), padding=(1, 1), groups=72, bias=False)\n",
                            "        (bn2): BatchNormAct2d(\n",
                            "          72, eps=1e-05, momentum=0.1, affine=True, track_running_stats=True\n",
                            "          (drop): Identity()\n",
                            "          (act): ReLU(inplace=True)\n",
                            "        )\n",
                            "        (aa): Identity()\n",
                            "        (se): Identity()\n",
                            "        (conv_pwl): Conv2d(72, 24, kernel_size=(1, 1), stride=(1, 1), bias=False)\n",
                            "        (bn3): BatchNormAct2d(\n",
                            "          24, eps=1e-05, momentum=0.1, affine=True, track_running_stats=True\n",
                            "          (drop): Identity()\n",
                            "          (act): Identity()\n",
                            "        )\n",
                            "        (drop_path): Identity()\n",
                            "      )\n",
                            "    )\n",
                            "    (2): Sequential(\n",
                            "      (0): InvertedResidual(\n",
                            "        (conv_pw): Conv2d(24, 72, kernel_size=(1, 1), stride=(1, 1), bias=False)\n",
                            "        (bn1): BatchNormAct2d(\n",
                            "          72, eps=1e-05, momentum=0.1, affine=True, track_running_stats=True\n",
                            "          (drop): Identity()\n",
                            "          (act): ReLU(inplace=True)\n",
                            "        )\n",
                            "        (conv_dw): Conv2d(72, 72, kernel_size=(5, 5), stride=(2, 2), padding=(2, 2), groups=72, bias=False)\n",
                            "        (bn2): BatchNormAct2d(\n",
                            "          72, eps=1e-05, momentum=0.1, affine=True, track_running_stats=True\n",
                            "          (drop): Identity()\n",
                            "          (act): ReLU(inplace=True)\n",
                            "        )\n",
                            "        (aa): Identity()\n",
                            "        (se): SqueezeExcite(\n",
                            "          (conv_reduce): Conv2d(72, 24, kernel_size=(1, 1), stride=(1, 1))\n",
                            "          (act1): ReLU(inplace=True)\n",
                            "          (conv_expand): Conv2d(24, 72, kernel_size=(1, 1), stride=(1, 1))\n",
                            "          (gate): Hardsigmoid()\n",
                            "        )\n",
                            "        (conv_pwl): Conv2d(72, 40, kernel_size=(1, 1), stride=(1, 1), bias=False)\n",
                            "        (bn3): BatchNormAct2d(\n",
                            "          40, eps=1e-05, momentum=0.1, affine=True, track_running_stats=True\n",
                            "          (drop): Identity()\n",
                            "          (act): Identity()\n",
                            "        )\n",
                            "        (drop_path): Identity()\n",
                            "      )\n",
                            "      (1): InvertedResidual(\n",
                            "        (conv_pw): Conv2d(40, 120, kernel_size=(1, 1), stride=(1, 1), bias=False)\n",
                            "        (bn1): BatchNormAct2d(\n",
                            "          120, eps=1e-05, momentum=0.1, affine=True, track_running_stats=True\n",
                            "          (drop): Identity()\n",
                            "          (act): ReLU(inplace=True)\n",
                            "        )\n",
                            "        (conv_dw): Conv2d(120, 120, kernel_size=(5, 5), stride=(1, 1), padding=(2, 2), groups=120, bias=False)\n",
                            "        (bn2): BatchNormAct2d(\n",
                            "          120, eps=1e-05, momentum=0.1, affine=True, track_running_stats=True\n",
                            "          (drop): Identity()\n",
                            "          (act): ReLU(inplace=True)\n",
                            "        )\n",
                            "        (aa): Identity()\n",
                            "        (se): SqueezeExcite(\n",
                            "          (conv_reduce): Conv2d(120, 32, kernel_size=(1, 1), stride=(1, 1))\n",
                            "          (act1): ReLU(inplace=True)\n",
                            "          (conv_expand): Conv2d(32, 120, kernel_size=(1, 1), stride=(1, 1))\n",
                            "          (gate): Hardsigmoid()\n",
                            "        )\n",
                            "        (conv_pwl): Conv2d(120, 40, kernel_size=(1, 1), stride=(1, 1), bias=False)\n",
                            "        (bn3): BatchNormAct2d(\n",
                            "          40, eps=1e-05, momentum=0.1, affine=True, track_running_stats=True\n",
                            "          (drop): Identity()\n",
                            "          (act): Identity()\n",
                            "        )\n",
                            "        (drop_path): Identity()\n",
                            "      )\n",
                            "      (2): InvertedResidual(\n",
                            "        (conv_pw): Conv2d(40, 120, kernel_size=(1, 1), stride=(1, 1), bias=False)\n",
                            "        (bn1): BatchNormAct2d(\n",
                            "          120, eps=1e-05, momentum=0.1, affine=True, track_running_stats=True\n",
                            "          (drop): Identity()\n",
                            "          (act): ReLU(inplace=True)\n",
                            "        )\n",
                            "        (conv_dw): Conv2d(120, 120, kernel_size=(5, 5), stride=(1, 1), padding=(2, 2), groups=120, bias=False)\n",
                            "        (bn2): BatchNormAct2d(\n",
                            "          120, eps=1e-05, momentum=0.1, affine=True, track_running_stats=True\n",
                            "          (drop): Identity()\n",
                            "          (act): ReLU(inplace=True)\n",
                            "        )\n",
                            "        (aa): Identity()\n",
                            "        (se): SqueezeExcite(\n",
                            "          (conv_reduce): Conv2d(120, 32, kernel_size=(1, 1), stride=(1, 1))\n",
                            "          (act1): ReLU(inplace=True)\n",
                            "          (conv_expand): Conv2d(32, 120, kernel_size=(1, 1), stride=(1, 1))\n",
                            "          (gate): Hardsigmoid()\n",
                            "        )\n",
                            "        (conv_pwl): Conv2d(120, 40, kernel_size=(1, 1), stride=(1, 1), bias=False)\n",
                            "        (bn3): BatchNormAct2d(\n",
                            "          40, eps=1e-05, momentum=0.1, affine=True, track_running_stats=True\n",
                            "          (drop): Identity()\n",
                            "          (act): Identity()\n",
                            "        )\n",
                            "        (drop_path): Identity()\n",
                            "      )\n",
                            "    )\n",
                            "    (3): Sequential(\n",
                            "      (0): InvertedResidual(\n",
                            "        (conv_pw): Conv2d(40, 240, kernel_size=(1, 1), stride=(1, 1), bias=False)\n",
                            "        (bn1): BatchNormAct2d(\n",
                            "          240, eps=1e-05, momentum=0.1, affine=True, track_running_stats=True\n",
                            "          (drop): Identity()\n",
                            "          (act): Hardswish()\n",
                            "        )\n",
                            "        (conv_dw): Conv2d(240, 240, kernel_size=(3, 3), stride=(2, 2), padding=(1, 1), groups=240, bias=False)\n",
                            "        (bn2): BatchNormAct2d(\n",
                            "          240, eps=1e-05, momentum=0.1, affine=True, track_running_stats=True\n",
                            "          (drop): Identity()\n",
                            "          (act): Hardswish()\n",
                            "        )\n",
                            "        (aa): Identity()\n",
                            "        (se): Identity()\n",
                            "        (conv_pwl): Conv2d(240, 80, kernel_size=(1, 1), stride=(1, 1), bias=False)\n",
                            "        (bn3): BatchNormAct2d(\n",
                            "          80, eps=1e-05, momentum=0.1, affine=True, track_running_stats=True\n",
                            "          (drop): Identity()\n",
                            "          (act): Identity()\n",
                            "        )\n",
                            "        (drop_path): Identity()\n",
                            "      )\n",
                            "      (1): InvertedResidual(\n",
                            "        (conv_pw): Conv2d(80, 200, kernel_size=(1, 1), stride=(1, 1), bias=False)\n",
                            "        (bn1): BatchNormAct2d(\n",
                            "          200, eps=1e-05, momentum=0.1, affine=True, track_running_stats=True\n",
                            "          (drop): Identity()\n",
                            "          (act): Hardswish()\n",
                            "        )\n",
                            "        (conv_dw): Conv2d(200, 200, kernel_size=(3, 3), stride=(1, 1), padding=(1, 1), groups=200, bias=False)\n",
                            "        (bn2): BatchNormAct2d(\n",
                            "          200, eps=1e-05, momentum=0.1, affine=True, track_running_stats=True\n",
                            "          (drop): Identity()\n",
                            "          (act): Hardswish()\n",
                            "        )\n",
                            "        (aa): Identity()\n",
                            "        (se): Identity()\n",
                            "        (conv_pwl): Conv2d(200, 80, kernel_size=(1, 1), stride=(1, 1), bias=False)\n",
                            "        (bn3): BatchNormAct2d(\n",
                            "          80, eps=1e-05, momentum=0.1, affine=True, track_running_stats=True\n",
                            "          (drop): Identity()\n",
                            "          (act): Identity()\n",
                            "        )\n",
                            "        (drop_path): Identity()\n",
                            "      )\n",
                            "      (2): InvertedResidual(\n",
                            "        (conv_pw): Conv2d(80, 184, kernel_size=(1, 1), stride=(1, 1), bias=False)\n",
                            "        (bn1): BatchNormAct2d(\n",
                            "          184, eps=1e-05, momentum=0.1, affine=True, track_running_stats=True\n",
                            "          (drop): Identity()\n",
                            "          (act): Hardswish()\n",
                            "        )\n",
                            "        (conv_dw): Conv2d(184, 184, kernel_size=(3, 3), stride=(1, 1), padding=(1, 1), groups=184, bias=False)\n",
                            "        (bn2): BatchNormAct2d(\n",
                            "          184, eps=1e-05, momentum=0.1, affine=True, track_running_stats=True\n",
                            "          (drop): Identity()\n",
                            "          (act): Hardswish()\n",
                            "        )\n",
                            "        (aa): Identity()\n",
                            "        (se): Identity()\n",
                            "        (conv_pwl): Conv2d(184, 80, kernel_size=(1, 1), stride=(1, 1), bias=False)\n",
                            "        (bn3): BatchNormAct2d(\n",
                            "          80, eps=1e-05, momentum=0.1, affine=True, track_running_stats=True\n",
                            "          (drop): Identity()\n",
                            "          (act): Identity()\n",
                            "        )\n",
                            "        (drop_path): Identity()\n",
                            "      )\n",
                            "      (3): InvertedResidual(\n",
                            "        (conv_pw): Conv2d(80, 184, kernel_size=(1, 1), stride=(1, 1), bias=False)\n",
                            "        (bn1): BatchNormAct2d(\n",
                            "          184, eps=1e-05, momentum=0.1, affine=True, track_running_stats=True\n",
                            "          (drop): Identity()\n",
                            "          (act): Hardswish()\n",
                            "        )\n",
                            "        (conv_dw): Conv2d(184, 184, kernel_size=(3, 3), stride=(1, 1), padding=(1, 1), groups=184, bias=False)\n",
                            "        (bn2): BatchNormAct2d(\n",
                            "          184, eps=1e-05, momentum=0.1, affine=True, track_running_stats=True\n",
                            "          (drop): Identity()\n",
                            "          (act): Hardswish()\n",
                            "        )\n",
                            "        (aa): Identity()\n",
                            "        (se): Identity()\n",
                            "        (conv_pwl): Conv2d(184, 80, kernel_size=(1, 1), stride=(1, 1), bias=False)\n",
                            "        (bn3): BatchNormAct2d(\n",
                            "          80, eps=1e-05, momentum=0.1, affine=True, track_running_stats=True\n",
                            "          (drop): Identity()\n",
                            "          (act): Identity()\n",
                            "        )\n",
                            "        (drop_path): Identity()\n",
                            "      )\n",
                            "    )\n",
                            "    (4): Sequential(\n",
                            "      (0): InvertedResidual(\n",
                            "        (conv_pw): Conv2d(80, 480, kernel_size=(1, 1), stride=(1, 1), bias=False)\n",
                            "        (bn1): BatchNormAct2d(\n",
                            "          480, eps=1e-05, momentum=0.1, affine=True, track_running_stats=True\n",
                            "          (drop): Identity()\n",
                            "          (act): Hardswish()\n",
                            "        )\n",
                            "        (conv_dw): Conv2d(480, 480, kernel_size=(3, 3), stride=(1, 1), padding=(1, 1), groups=480, bias=False)\n",
                            "        (bn2): BatchNormAct2d(\n",
                            "          480, eps=1e-05, momentum=0.1, affine=True, track_running_stats=True\n",
                            "          (drop): Identity()\n",
                            "          (act): Hardswish()\n",
                            "        )\n",
                            "        (aa): Identity()\n",
                            "        (se): SqueezeExcite(\n",
                            "          (conv_reduce): Conv2d(480, 120, kernel_size=(1, 1), stride=(1, 1))\n",
                            "          (act1): ReLU(inplace=True)\n",
                            "          (conv_expand): Conv2d(120, 480, kernel_size=(1, 1), stride=(1, 1))\n",
                            "          (gate): Hardsigmoid()\n",
                            "        )\n",
                            "        (conv_pwl): Conv2d(480, 112, kernel_size=(1, 1), stride=(1, 1), bias=False)\n",
                            "        (bn3): BatchNormAct2d(\n",
                            "          112, eps=1e-05, momentum=0.1, affine=True, track_running_stats=True\n",
                            "          (drop): Identity()\n",
                            "          (act): Identity()\n",
                            "        )\n",
                            "        (drop_path): Identity()\n",
                            "      )\n",
                            "      (1): InvertedResidual(\n",
                            "        (conv_pw): Conv2d(112, 672, kernel_size=(1, 1), stride=(1, 1), bias=False)\n",
                            "        (bn1): BatchNormAct2d(\n",
                            "          672, eps=1e-05, momentum=0.1, affine=True, track_running_stats=True\n",
                            "          (drop): Identity()\n",
                            "          (act): Hardswish()\n",
                            "        )\n",
                            "        (conv_dw): Conv2d(672, 672, kernel_size=(3, 3), stride=(1, 1), padding=(1, 1), groups=672, bias=False)\n",
                            "        (bn2): BatchNormAct2d(\n",
                            "          672, eps=1e-05, momentum=0.1, affine=True, track_running_stats=True\n",
                            "          (drop): Identity()\n",
                            "          (act): Hardswish()\n",
                            "        )\n",
                            "        (aa): Identity()\n",
                            "        (se): SqueezeExcite(\n",
                            "          (conv_reduce): Conv2d(672, 168, kernel_size=(1, 1), stride=(1, 1))\n",
                            "          (act1): ReLU(inplace=True)\n",
                            "          (conv_expand): Conv2d(168, 672, kernel_size=(1, 1), stride=(1, 1))\n",
                            "          (gate): Hardsigmoid()\n",
                            "        )\n",
                            "        (conv_pwl): Conv2d(672, 112, kernel_size=(1, 1), stride=(1, 1), bias=False)\n",
                            "        (bn3): BatchNormAct2d(\n",
                            "          112, eps=1e-05, momentum=0.1, affine=True, track_running_stats=True\n",
                            "          (drop): Identity()\n",
                            "          (act): Identity()\n",
                            "        )\n",
                            "        (drop_path): Identity()\n",
                            "      )\n",
                            "    )\n",
                            "    (5): Sequential(\n",
                            "      (0): InvertedResidual(\n",
                            "        (conv_pw): Conv2d(112, 672, kernel_size=(1, 1), stride=(1, 1), bias=False)\n",
                            "        (bn1): BatchNormAct2d(\n",
                            "          672, eps=1e-05, momentum=0.1, affine=True, track_running_stats=True\n",
                            "          (drop): Identity()\n",
                            "          (act): Hardswish()\n",
                            "        )\n",
                            "        (conv_dw): Conv2d(672, 672, kernel_size=(5, 5), stride=(2, 2), padding=(2, 2), groups=672, bias=False)\n",
                            "        (bn2): BatchNormAct2d(\n",
                            "          672, eps=1e-05, momentum=0.1, affine=True, track_running_stats=True\n",
                            "          (drop): Identity()\n",
                            "          (act): Hardswish()\n",
                            "        )\n",
                            "        (aa): Identity()\n",
                            "        (se): SqueezeExcite(\n",
                            "          (conv_reduce): Conv2d(672, 168, kernel_size=(1, 1), stride=(1, 1))\n",
                            "          (act1): ReLU(inplace=True)\n",
                            "          (conv_expand): Conv2d(168, 672, kernel_size=(1, 1), stride=(1, 1))\n",
                            "          (gate): Hardsigmoid()\n",
                            "        )\n",
                            "        (conv_pwl): Conv2d(672, 160, kernel_size=(1, 1), stride=(1, 1), bias=False)\n",
                            "        (bn3): BatchNormAct2d(\n",
                            "          160, eps=1e-05, momentum=0.1, affine=True, track_running_stats=True\n",
                            "          (drop): Identity()\n",
                            "          (act): Identity()\n",
                            "        )\n",
                            "        (drop_path): Identity()\n",
                            "      )\n",
                            "      (1): InvertedResidual(\n",
                            "        (conv_pw): Conv2d(160, 960, kernel_size=(1, 1), stride=(1, 1), bias=False)\n",
                            "        (bn1): BatchNormAct2d(\n",
                            "          960, eps=1e-05, momentum=0.1, affine=True, track_running_stats=True\n",
                            "          (drop): Identity()\n",
                            "          (act): Hardswish()\n",
                            "        )\n",
                            "        (conv_dw): Conv2d(960, 960, kernel_size=(5, 5), stride=(1, 1), padding=(2, 2), groups=960, bias=False)\n",
                            "        (bn2): BatchNormAct2d(\n",
                            "          960, eps=1e-05, momentum=0.1, affine=True, track_running_stats=True\n",
                            "          (drop): Identity()\n",
                            "          (act): Hardswish()\n",
                            "        )\n",
                            "        (aa): Identity()\n",
                            "        (se): SqueezeExcite(\n",
                            "          (conv_reduce): Conv2d(960, 240, kernel_size=(1, 1), stride=(1, 1))\n",
                            "          (act1): ReLU(inplace=True)\n",
                            "          (conv_expand): Conv2d(240, 960, kernel_size=(1, 1), stride=(1, 1))\n",
                            "          (gate): Hardsigmoid()\n",
                            "        )\n",
                            "        (conv_pwl): Conv2d(960, 160, kernel_size=(1, 1), stride=(1, 1), bias=False)\n",
                            "        (bn3): BatchNormAct2d(\n",
                            "          160, eps=1e-05, momentum=0.1, affine=True, track_running_stats=True\n",
                            "          (drop): Identity()\n",
                            "          (act): Identity()\n",
                            "        )\n",
                            "        (drop_path): Identity()\n",
                            "      )\n",
                            "      (2): InvertedResidual(\n",
                            "        (conv_pw): Conv2d(160, 960, kernel_size=(1, 1), stride=(1, 1), bias=False)\n",
                            "        (bn1): BatchNormAct2d(\n",
                            "          960, eps=1e-05, momentum=0.1, affine=True, track_running_stats=True\n",
                            "          (drop): Identity()\n",
                            "          (act): Hardswish()\n",
                            "        )\n",
                            "        (conv_dw): Conv2d(960, 960, kernel_size=(5, 5), stride=(1, 1), padding=(2, 2), groups=960, bias=False)\n",
                            "        (bn2): BatchNormAct2d(\n",
                            "          960, eps=1e-05, momentum=0.1, affine=True, track_running_stats=True\n",
                            "          (drop): Identity()\n",
                            "          (act): Hardswish()\n",
                            "        )\n",
                            "        (aa): Identity()\n",
                            "        (se): SqueezeExcite(\n",
                            "          (conv_reduce): Conv2d(960, 240, kernel_size=(1, 1), stride=(1, 1))\n",
                            "          (act1): ReLU(inplace=True)\n",
                            "          (conv_expand): Conv2d(240, 960, kernel_size=(1, 1), stride=(1, 1))\n",
                            "          (gate): Hardsigmoid()\n",
                            "        )\n",
                            "        (conv_pwl): Conv2d(960, 160, kernel_size=(1, 1), stride=(1, 1), bias=False)\n",
                            "        (bn3): BatchNormAct2d(\n",
                            "          160, eps=1e-05, momentum=0.1, affine=True, track_running_stats=True\n",
                            "          (drop): Identity()\n",
                            "          (act): Identity()\n",
                            "        )\n",
                            "        (drop_path): Identity()\n",
                            "      )\n",
                            "    )\n",
                            "    (6): Sequential(\n",
                            "      (0): ConvBnAct(\n",
                            "        (conv): Conv2d(160, 960, kernel_size=(1, 1), stride=(1, 1), bias=False)\n",
                            "        (bn1): BatchNormAct2d(\n",
                            "          960, eps=1e-05, momentum=0.1, affine=True, track_running_stats=True\n",
                            "          (drop): Identity()\n",
                            "          (act): Hardswish()\n",
                            "        )\n",
                            "        (aa): Identity()\n",
                            "        (drop_path): Identity()\n",
                            "      )\n",
                            "    )\n",
                            "  )\n",
                            "  (global_pool): SelectAdaptivePool2d(pool_type=avg, flatten=Identity())\n",
                            "  (conv_head): Conv2d(960, 1280, kernel_size=(1, 1), stride=(1, 1))\n",
                            "  (norm_head): Identity()\n",
                            "  (act2): Hardswish()\n",
                            "  (flatten): Flatten(start_dim=1, end_dim=-1)\n",
                            "  (classifier): Linear(in_features=1280, out_features=8, bias=True)\n",
                            ")"
                        ]
                    },
                    "metadata": {},
                    "execution_count": 10
                }
            ]
        },
        {
            "cell_type": "code",
            "source": [
                "criterion = nn.CrossEntropyLoss()\n",
                "optimizer = optim.Adam(model.parameters(), lr=1e-4)\n",
                "EPOCHS = 10\n",
                "\n",
                "for epoch in range(EPOCHS):\n",
                "    model.train()\n",
                "    running_loss, correct, total = 0.0, 0, 0\n",
                "\n",
                "    for images, labels in tqdm(train_loader, desc=f\"Epoch {epoch+1}/{EPOCHS}\"):\n",
                "        images, labels = images.to(device), labels.to(device)\n",
                "\n",
                "        optimizer.zero_grad()\n",
                "        outputs = model(images)\n",
                "        loss = criterion(outputs, labels)\n",
                "        loss.backward()\n",
                "        optimizer.step()\n",
                "\n",
                "        running_loss += loss.item()\n",
                "        _, preds = outputs.max(1)\n",
                "        correct += (preds == labels).sum().item()\n",
                "        total += labels.size(0)\n",
                "\n",
                "    acc = 100 * correct / total\n",
                "    print(f\"Epoch {epoch+1}: Loss = {running_loss/len(train_loader):.4f} | Accuracy = {acc:.2f}%\")"
            ],
            "metadata": {
                "colab": {
                    "base_uri": "https://localhost:8080/"
                },
                "id": "4QtMd7la-3ym",
                "outputId": "3d4d0007-ac85-47bd-f726-48d816b47648"
            },
            "execution_count": null,
            "outputs": [
                {
                    "metadata": {
                        "tags": null
                    },
                    "name": "stderr",
                    "output_type": "stream",
                    "text": [
                        "Epoch 1/10: 100%|██████████| 1600/1600 [05:38<00:00,  4.72it/s]\n"
                    ]
                },
                {
                    "metadata": {
                        "tags": null
                    },
                    "name": "stdout",
                    "output_type": "stream",
                    "text": [
                        "Epoch 1: Loss = 0.4737 | Accuracy = 85.79%\n"
                    ]
                },
                {
                    "metadata": {
                        "tags": null
                    },
                    "name": "stderr",
                    "output_type": "stream",
                    "text": [
                        "Epoch 2/10: 100%|██████████| 1600/1600 [04:12<00:00,  6.34it/s]\n"
                    ]
                },
                {
                    "metadata": {
                        "tags": null
                    },
                    "name": "stdout",
                    "output_type": "stream",
                    "text": [
                        "Epoch 2: Loss = 0.1149 | Accuracy = 96.20%\n"
                    ]
                },
                {
                    "metadata": {
                        "tags": null
                    },
                    "name": "stderr",
                    "output_type": "stream",
                    "text": [
                        "Epoch 3/10: 100%|██████████| 1600/1600 [04:12<00:00,  6.34it/s]\n"
                    ]
                },
                {
                    "metadata": {
                        "tags": null
                    },
                    "name": "stdout",
                    "output_type": "stream",
                    "text": [
                        "Epoch 3: Loss = 0.0609 | Accuracy = 97.95%\n"
                    ]
                },
                {
                    "metadata": {
                        "tags": null
                    },
                    "name": "stderr",
                    "output_type": "stream",
                    "text": [
                        "Epoch 4/10: 100%|██████████| 1600/1600 [04:12<00:00,  6.34it/s]\n"
                    ]
                },
                {
                    "metadata": {
                        "tags": null
                    },
                    "name": "stdout",
                    "output_type": "stream",
                    "text": [
                        "Epoch 4: Loss = 0.0408 | Accuracy = 98.68%\n"
                    ]
                },
                {
                    "output_type": "stream",
                    "name": "stderr",
                    "text": [
                        "Epoch 5/10: 100%|██████████| 1600/1600 [04:17<00:00,  6.20it/s]\n"
                    ]
                },
                {
                    "output_type": "stream",
                    "name": "stdout",
                    "text": [
                        "Epoch 5: Loss = 0.0329 | Accuracy = 98.87%\n"
                    ]
                },
                {
                    "output_type": "stream",
                    "name": "stderr",
                    "text": [
                        "Epoch 6/10: 100%|██████████| 1600/1600 [04:14<00:00,  6.28it/s]\n"
                    ]
                },
                {
                    "output_type": "stream",
                    "name": "stdout",
                    "text": [
                        "Epoch 6: Loss = 0.0258 | Accuracy = 99.16%\n"
                    ]
                },
                {
                    "output_type": "stream",
                    "name": "stderr",
                    "text": [
                        "Epoch 7/10: 100%|██████████| 1600/1600 [04:12<00:00,  6.34it/s]\n"
                    ]
                },
                {
                    "output_type": "stream",
                    "name": "stdout",
                    "text": [
                        "Epoch 7: Loss = 0.0246 | Accuracy = 99.20%\n"
                    ]
                },
                {
                    "output_type": "stream",
                    "name": "stderr",
                    "text": [
                        "Epoch 8/10: 100%|██████████| 1600/1600 [04:11<00:00,  6.36it/s]\n"
                    ]
                },
                {
                    "output_type": "stream",
                    "name": "stdout",
                    "text": [
                        "Epoch 8: Loss = 0.0207 | Accuracy = 99.36%\n"
                    ]
                },
                {
                    "output_type": "stream",
                    "name": "stderr",
                    "text": [
                        "Epoch 9/10: 100%|██████████| 1600/1600 [04:11<00:00,  6.36it/s]\n"
                    ]
                },
                {
                    "output_type": "stream",
                    "name": "stdout",
                    "text": [
                        "Epoch 9: Loss = 0.0202 | Accuracy = 99.33%\n"
                    ]
                },
                {
                    "output_type": "stream",
                    "name": "stderr",
                    "text": [
                        "Epoch 10/10: 100%|██████████| 1600/1600 [04:11<00:00,  6.36it/s]"
                    ]
                },
                {
                    "output_type": "stream",
                    "name": "stdout",
                    "text": [
                        "Epoch 10: Loss = 0.0153 | Accuracy = 99.50%\n"
                    ]
                },
                {
                    "output_type": "stream",
                    "name": "stderr",
                    "text": [
                        "\n"
                    ]
                }
            ]
        },
        {
            "cell_type": "code",
            "source": [
                "model.eval()\n",
                "val_loss, correct, total = 0.0, 0, 0\n",
                "\n",
                "with torch.no_grad():\n",
                "    for images, labels in val_loader:\n",
                "        images, labels = images.to(device), labels.to(device)\n",
                "        outputs = model(images)\n",
                "        loss = criterion(outputs, labels)\n",
                "\n",
                "        val_loss += loss.item()\n",
                "        _, preds = outputs.max(1)\n",
                "        correct += (preds == labels).sum().item()\n",
                "        total += labels.size(0)\n",
                "\n",
                "val_acc = 100 * correct / total\n",
                "print(f\"Validation Accuracy: {val_acc:.2f}% | Loss: {val_loss/len(val_loader):.4f}\")"
            ],
            "metadata": {
                "colab": {
                    "base_uri": "https://localhost:8080/"
                },
                "id": "XvwrHSzL-9nL",
                "outputId": "9afa44ad-c033-4fd2-c6a3-77e290973c1b"
            },
            "execution_count": null,
            "outputs": [
                {
                    "output_type": "stream",
                    "name": "stdout",
                    "text": [
                        "Validation Accuracy: 98.07% | Loss: 0.0790\n"
                    ]
                }
            ]
        },
        {
            "cell_type": "code",
            "source": [
                "torch.save(model.state_dict(), \"mobilenetv3_garbage_classifier.pth\")"
            ],
            "metadata": {
                "id": "aN6xYW6zBTTI"
            },
            "execution_count": null,
            "outputs": []
        },
        {
            "cell_type": "code",
            "source": [
                "from google.colab import files\n",
                "files.download(\"mobilenetv3_garbage_classifier.pth\")"
            ],
            "metadata": {
                "colab": {
                    "base_uri": "https://localhost:8080/",
                    "height": 34
                },
                "id": "eFBt8XnJBVEg",
                "outputId": "2d13f219-2a50-4f14-cb9a-8a5e3778baee"
            },
            "execution_count": null,
            "outputs": [
                {
                    "output_type": "display_data",
                    "data": {
                        "text/plain": [
                            "<IPython.core.display.Javascript object>"
                        ],
                        "application/javascript": [
                            "\n",
                            "    async function download(id, filename, size) {\n",
                            "      if (!google.colab.kernel.accessAllowed) {\n",
                            "        return;\n",
                            "      }\n",
                            "      const div = document.createElement('div');\n",
                            "      const label = document.createElement('label');\n",
                            "      label.textContent = `Downloading \"${filename}\": `;\n",
                            "      div.appendChild(label);\n",
                            "      const progress = document.createElement('progress');\n",
                            "      progress.max = size;\n",
                            "      div.appendChild(progress);\n",
                            "      document.body.appendChild(div);\n",
                            "\n",
                            "      const buffers = [];\n",
                            "      let downloaded = 0;\n",
                            "\n",
                            "      const channel = await google.colab.kernel.comms.open(id);\n",
                            "      // Send a message to notify the kernel that we're ready.\n",
                            "      channel.send({})\n",
                            "\n",
                            "      for await (const message of channel.messages) {\n",
                            "        // Send a message to notify the kernel that we're ready.\n",
                            "        channel.send({})\n",
                            "        if (message.buffers) {\n",
                            "          for (const buffer of message.buffers) {\n",
                            "            buffers.push(buffer);\n",
                            "            downloaded += buffer.byteLength;\n",
                            "            progress.value = downloaded;\n",
                            "          }\n",
                            "        }\n",
                            "      }\n",
                            "      const blob = new Blob(buffers, {type: 'application/binary'});\n",
                            "      const a = document.createElement('a');\n",
                            "      a.href = window.URL.createObjectURL(blob);\n",
                            "      a.download = filename;\n",
                            "      div.appendChild(a);\n",
                            "      a.click();\n",
                            "      div.remove();\n",
                            "    }\n",
                            "  "
                        ]
                    },
                    "metadata": {}
                },
                {
                    "output_type": "display_data",
                    "data": {
                        "text/plain": [
                            "<IPython.core.display.Javascript object>"
                        ],
                        "application/javascript": [
                            "download(\"download_6b815fb4-6308-4d58-bb34-b2cbc6437270\", \"mobilenetv3_garbage_classifier.pth\", 17060838)"
                        ]
                    },
                    "metadata": {}
                }
            ]
        }
    ]
}
